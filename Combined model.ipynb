{
 "cells": [
  {
   "cell_type": "markdown",
   "metadata": {},
   "source": [
    "# Combined model\n",
    "\n",
    "The notebook outlines the procedure for aggregating the results of the classifier with those of the regressor to improve the error rate of the %RBR predictions.\n",
    "\n",
    "The following libraries are used."
   ]
  },
  {
   "cell_type": "code",
   "execution_count": 14,
   "metadata": {
    "ExecuteTime": {
     "end_time": "2019-05-14T20:47:22.514224Z",
     "start_time": "2019-05-14T20:47:22.510264Z"
    }
   },
   "outputs": [],
   "source": [
    "import numpy as np\n",
    "import pandas as pd\n",
    "\n",
    "from sklearn.metrics import accuracy_score, confusion_matrix, recall_score, precision_score, mean_squared_error\n",
    "\n",
    "import keras.backend as K\n",
    "from keras.models import load_model\n",
    "from keras.preprocessing.image import ImageDataGenerator"
   ]
  },
  {
   "cell_type": "markdown",
   "metadata": {},
   "source": [
    "## Global functions and definitions"
   ]
  },
  {
   "cell_type": "code",
   "execution_count": 7,
   "metadata": {
    "ExecuteTime": {
     "end_time": "2019-05-14T20:45:08.241110Z",
     "start_time": "2019-05-14T20:45:08.238141Z"
    }
   },
   "outputs": [],
   "source": [
    "BATCH_SIZE = 10\n",
    "IMAGE_SHAPE = (128, 128, 3)"
   ]
  },
  {
   "cell_type": "markdown",
   "metadata": {},
   "source": [
    "### Custom metrix"
   ]
  },
  {
   "cell_type": "code",
   "execution_count": 8,
   "metadata": {
    "ExecuteTime": {
     "end_time": "2019-05-14T20:45:08.657962Z",
     "start_time": "2019-05-14T20:45:08.654969Z"
    }
   },
   "outputs": [],
   "source": [
    "def rmse(y_true, y_pred):\n",
    "        return K.sqrt(K.mean(K.square(y_pred - y_true), axis=-1)) "
   ]
  },
  {
   "cell_type": "markdown",
   "metadata": {},
   "source": [
    "### Create a test data generator"
   ]
  },
  {
   "cell_type": "code",
   "execution_count": 9,
   "metadata": {
    "ExecuteTime": {
     "end_time": "2019-05-14T20:45:09.105154Z",
     "start_time": "2019-05-14T20:45:09.102148Z"
    }
   },
   "outputs": [],
   "source": [
    "test_datagen = ImageDataGenerator(rescale=1./255)"
   ]
  },
  {
   "cell_type": "code",
   "execution_count": 10,
   "metadata": {
    "ExecuteTime": {
     "end_time": "2019-05-14T20:45:09.350538Z",
     "start_time": "2019-05-14T20:45:09.342561Z"
    }
   },
   "outputs": [],
   "source": [
    "cls_test = pd.read_csv('dataframes/test.csv').drop(['percentage'], axis=1)\n",
    "reg_test = pd.read_csv('dataframes/test.csv').drop(['rbr'], axis=1)"
   ]
  },
  {
   "cell_type": "code",
   "execution_count": 12,
   "metadata": {
    "ExecuteTime": {
     "end_time": "2019-05-14T20:45:24.959256Z",
     "start_time": "2019-05-14T20:45:24.926372Z"
    }
   },
   "outputs": [
    {
     "name": "stdout",
     "output_type": "stream",
     "text": [
      "Found 200 images.\n",
      "Found 200 images.\n"
     ]
    }
   ],
   "source": [
    "cls_test_gen = test_datagen.flow_from_dataframe(\n",
    "                        dataframe=cls_test,\n",
    "                        directory='data/crop', \n",
    "                        x_col='filename', \n",
    "                        y_col='rbr', \n",
    "                        has_ext=True, \n",
    "                        target_size=IMAGE_SHAPE[:2], \n",
    "                        color_mode='rgb', \n",
    "                        classes=None, \n",
    "                        class_mode=None, \n",
    "                        batch_size=BATCH_SIZE, \n",
    "                        shuffle=False, \n",
    "                        seed=42)\n",
    "\n",
    "reg_test_gen = test_datagen.flow_from_dataframe(\n",
    "                        dataframe=reg_test,\n",
    "                        directory='data/crop', \n",
    "                        x_col='filename', \n",
    "                        y_col='percentage', \n",
    "                        has_ext=True, \n",
    "                        target_size=IMAGE_SHAPE[:2], \n",
    "                        color_mode='rgb', \n",
    "                        classes=None, \n",
    "                        class_mode=None, \n",
    "                        batch_size=BATCH_SIZE, \n",
    "                        shuffle=False, \n",
    "                        seed=42)"
   ]
  },
  {
   "cell_type": "markdown",
   "metadata": {},
   "source": [
    "## Load models"
   ]
  },
  {
   "cell_type": "code",
   "execution_count": 15,
   "metadata": {
    "ExecuteTime": {
     "end_time": "2019-05-14T20:50:17.349352Z",
     "start_time": "2019-05-14T20:47:25.679199Z"
    }
   },
   "outputs": [],
   "source": [
    "cls_model = load_model('models/classification_final')\n",
    "reg_model = load_model('models/regression_final', custom_objects={'rmse': rmse})"
   ]
  },
  {
   "cell_type": "markdown",
   "metadata": {},
   "source": [
    "## Make predictions"
   ]
  },
  {
   "cell_type": "code",
   "execution_count": 17,
   "metadata": {
    "ExecuteTime": {
     "end_time": "2019-05-14T20:51:59.773157Z",
     "start_time": "2019-05-14T20:51:54.112283Z"
    }
   },
   "outputs": [
    {
     "name": "stdout",
     "output_type": "stream",
     "text": [
      "20/20 [==============================] - 3s 141ms/step\n",
      "20/20 [==============================] - 3s 142ms/step\n"
     ]
    }
   ],
   "source": [
    "cls_test_gen.reset()\n",
    "reg_test_gen.reset()\n",
    "\n",
    "cls_output = cls_model.predict_generator(generator=cls_test_gen, \n",
    "                                         steps=cls_test_gen.n//BATCH_SIZE, \n",
    "                                         verbose=1)\n",
    "\n",
    "reg_output = reg_model.predict_generator(generator=reg_test_gen, \n",
    "                                         steps=reg_test_gen.n//BATCH_SIZE, \n",
    "                                         verbose=1)\n",
    "\n",
    "cls_pred = cls_output > 0.5\n",
    "reg_pred = [x[0] for x in reg_output]\n",
    "\n",
    "reg_true = reg_true = list(reg_test['percentage'])"
   ]
  },
  {
   "cell_type": "markdown",
   "metadata": {},
   "source": [
    "Do an elementwise multiplication of the two prediction vectors and compare the result."
   ]
  },
  {
   "cell_type": "code",
   "execution_count": 18,
   "metadata": {
    "ExecuteTime": {
     "end_time": "2019-05-14T20:52:08.563412Z",
     "start_time": "2019-05-14T20:52:08.559419Z"
    }
   },
   "outputs": [
    {
     "name": "stdout",
     "output_type": "stream",
     "text": [
      "Regression model RMSE of 6.879220448432488(%)\n",
      "Combined model RMSE of 6.170758092747986(%)\n"
     ]
    }
   ],
   "source": [
    "comb_pred = cls_pred*reg_pred\n",
    "\n",
    "reg_rmse = np.sqrt(mean_squared_error(reg_true, reg_pred))\n",
    "comb_rmse = np.sqrt(mean_squared_error(reg_true, comb_pred))\n",
    "\n",
    "print('Regression model RMSE of {}(%)'.format(reg_rmse*100))\n",
    "print('Combined model RMSE of {}(%)'.format(comb_rmse*100))"
   ]
  },
  {
   "cell_type": "code",
   "execution_count": null,
   "metadata": {},
   "outputs": [],
   "source": []
  }
 ],
 "metadata": {
  "kernelspec": {
   "display_name": "Python 3",
   "language": "python",
   "name": "python3"
  },
  "language_info": {
   "codemirror_mode": {
    "name": "ipython",
    "version": 3
   },
   "file_extension": ".py",
   "mimetype": "text/x-python",
   "name": "python",
   "nbconvert_exporter": "python",
   "pygments_lexer": "ipython3",
   "version": "3.6.8"
  },
  "varInspector": {
   "cols": {
    "lenName": 16,
    "lenType": 16,
    "lenVar": 40
   },
   "kernels_config": {
    "python": {
     "delete_cmd_postfix": "",
     "delete_cmd_prefix": "del ",
     "library": "var_list.py",
     "varRefreshCmd": "print(var_dic_list())"
    },
    "r": {
     "delete_cmd_postfix": ") ",
     "delete_cmd_prefix": "rm(",
     "library": "var_list.r",
     "varRefreshCmd": "cat(var_dic_list()) "
    }
   },
   "types_to_exclude": [
    "module",
    "function",
    "builtin_function_or_method",
    "instance",
    "_Feature"
   ],
   "window_display": false
  }
 },
 "nbformat": 4,
 "nbformat_minor": 2
}
