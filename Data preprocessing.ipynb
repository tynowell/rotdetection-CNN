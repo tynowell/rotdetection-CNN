{
 "cells": [
  {
   "cell_type": "markdown",
   "metadata": {},
   "source": [
    "# Data preprocessing\n",
    "\n",
    "This notebook will cover the steps used to generate the image dataset. It uses a preexisting dataset containing images of stumps and a corresponding mask labelling areas designated as background (black), stump (white) and RBR (red). This process assumes that the masks share the same name with the image its associated with.\n",
    "\n",
    "The following libraries are used."
   ]
  },
  {
   "cell_type": "code",
   "execution_count": null,
   "metadata": {
    "ExecuteTime": {
     "end_time": "2019-05-14T15:15:29.259802Z",
     "start_time": "2019-05-14T15:15:28.781092Z"
    }
   },
   "outputs": [],
   "source": [
    "# File manipulation\n",
    "import os\n",
    "\n",
    "# Data manipulation\n",
    "import numpy as np\n",
    "import pandas as pd\n",
    "\n",
    "# Image manipulation\n",
    "import cv2"
   ]
  },
  {
   "cell_type": "markdown",
   "metadata": {},
   "source": [
    "## Image cropping"
   ]
  },
  {
   "cell_type": "markdown",
   "metadata": {},
   "source": [
    "Define a function to return the bounding box from a mask."
   ]
  },
  {
   "cell_type": "code",
   "execution_count": null,
   "metadata": {
    "ExecuteTime": {
     "end_time": "2019-05-14T15:15:29.344192Z",
     "start_time": "2019-05-14T15:15:29.340202Z"
    }
   },
   "outputs": [],
   "source": [
    "def bbox(mask):\n",
    "    b = np.where(mask != 0)\n",
    "    box = np.min(b[0]), np.max(b[0]), np.min(b[1]), np.max(b[1])\n",
    "    return  box"
   ]
  },
  {
   "cell_type": "markdown",
   "metadata": {},
   "source": [
    "Crop the images and masks"
   ]
  },
  {
   "cell_type": "code",
   "execution_count": null,
   "metadata": {
    "ExecuteTime": {
     "end_time": "2019-05-14T15:15:29.654578Z",
     "start_time": "2019-05-14T15:15:29.644635Z"
    }
   },
   "outputs": [],
   "source": [
    "# Get a list of the images and masks\n",
    "img_list = os.listdir('data/orig/')\n",
    "msk_list = os.listdir('data/orig_mask/')\n",
    "\n",
    "for idx, mask_name in enumerate(msk_list):\n",
    "    # Read in mask and image as Numpy array\n",
    "    msk = np.array(Image.open('data/orig_mask/' + mask_name))\n",
    "    img = np.array(Image.open('data/orig/' + mask_name))\n",
    "    \n",
    "    # Get stump boundaries from mask\n",
    "    bbox = bbox1(msk)\n",
    "    \n",
    "    # Crop mask and image\n",
    "    msk_crp = Image.fromarray(msk[bbox[0]:bbox[1], bbox[2]:bbox[3]])\n",
    "    img_crp = Image.fromarray(img[bbox[0]:bbox[1], bbox[2]:bbox[3]])\n",
    "    \n",
    "    # Save cropped mask and image to file\n",
    "    msk_crp.save('data/crop_mask/' + str(idx).zfill(4) + '.jpg')\n",
    "    img_crp.save('data/crop/' + str(idx).zfill(4) + '.jpg')"
   ]
  },
  {
   "cell_type": "markdown",
   "metadata": {},
   "source": [
    "## Apply histogram equalisation\n",
    "\n",
    "Create a new image dataset which has been normalised using histogram equalisation."
   ]
  },
  {
   "cell_type": "code",
   "execution_count": null,
   "metadata": {
    "ExecuteTime": {
     "end_time": "2019-05-14T15:16:24.504339Z",
     "start_time": "2019-05-14T15:15:29.933453Z"
    }
   },
   "outputs": [],
   "source": [
    "crp_img_list = os.listdir('data/crop/')\n",
    "\n",
    "# Iterate through image list applying histogram equalisation\n",
    "for image in crp_img_list:\n",
    "    img = cv2.imread('data/crop/' + image)\n",
    "    \n",
    "    # Convert to yuv format\n",
    "    img_yuv = cv2.cvtColor(img, cv2.COLOR_BGR2YUV)\n",
    "    \n",
    "    # Equalise the histogram of the y channel\n",
    "    img_yuv[:,:,0] = cv2.equalizeHist(img_yuv[:,:,0])\n",
    "    \n",
    "    # Convert back to RGB\n",
    "    img_rgb = cv2.cvtColor(img_yuv, cv2.COLOR_YUV2BGR)\n",
    "    \n",
    "    # Save histogram equalised image\n",
    "    cv2.imwrite('data/equ_crop/' + image, img_rgb)"
   ]
  },
  {
   "cell_type": "markdown",
   "metadata": {},
   "source": [
    "## Target extraction\n",
    "\n",
    "Extract the target values - presence of RBR and %RBR - from the cropped mask."
   ]
  },
  {
   "cell_type": "code",
   "execution_count": null,
   "metadata": {
    "ExecuteTime": {
     "end_time": "2019-05-14T15:16:40.221297Z",
     "start_time": "2019-05-14T15:16:24.521129Z"
    }
   },
   "outputs": [],
   "source": [
    "crp_msk_list = [s.lower() for s in os.listdir('data/crop_mask/')]\n",
    "\n",
    "# Create a dataframe to store the results\n",
    "columns = ['rbr', 'percentage']\n",
    "df = pd.DataFrame(index=crp_msk_list, columns=columns)\n",
    "df.index.name = 'filename'\n",
    "df = df.sort_index()\n",
    "\n",
    "# Iterate though the masks list extracting %RBR\n",
    "for idx, mask in enumerate(crp_msk_list):\n",
    "    msk = cv2.imread('data/crop_mask/' + mask)\n",
    "    \n",
    "    # Threshold the mask to remove aliasing\n",
    "    _, thresh = cv2.threshold(msk, 100, 200, cv2.THRESH_BINARY)\n",
    "    \n",
    "    # Count the number of stump (white) and RBR (red) pixels\n",
    "    clear = np.sum(cv2.inRange(thresh, (200,200,200), (255,255,255)))/255\n",
    "    rbr = np.sum(cv2.inRange(thresh, (0,0,200), (20,20,255)))/255\n",
    "    \n",
    "    # Calculate %RBR as a percentage of the area\n",
    "    df.loc[mask, 'percentage'] = np.round(abs(rbr/(rbr + clear)), 4)\n",
    "\n",
    "# Use %RBR to establish the presence of RBR\n",
    "df['rbr'] = df['percentage'] != 0\n",
    "\n",
    "# Save to file\n",
    "df.to_csv('dataframes/dataset.csv')"
   ]
  },
  {
   "cell_type": "code",
   "execution_count": null,
   "metadata": {},
   "outputs": [],
   "source": []
  }
 ],
 "metadata": {
  "kernelspec": {
   "display_name": "Python 3",
   "language": "python",
   "name": "python3"
  },
  "language_info": {
   "codemirror_mode": {
    "name": "ipython",
    "version": 3
   },
   "file_extension": ".py",
   "mimetype": "text/x-python",
   "name": "python",
   "nbconvert_exporter": "python",
   "pygments_lexer": "ipython3",
   "version": "3.6.8"
  },
  "varInspector": {
   "cols": {
    "lenName": 16,
    "lenType": 16,
    "lenVar": 40
   },
   "kernels_config": {
    "python": {
     "delete_cmd_postfix": "",
     "delete_cmd_prefix": "del ",
     "library": "var_list.py",
     "varRefreshCmd": "print(var_dic_list())"
    },
    "r": {
     "delete_cmd_postfix": ") ",
     "delete_cmd_prefix": "rm(",
     "library": "var_list.r",
     "varRefreshCmd": "cat(var_dic_list()) "
    }
   },
   "types_to_exclude": [
    "module",
    "function",
    "builtin_function_or_method",
    "instance",
    "_Feature"
   ],
   "window_display": false
  }
 },
 "nbformat": 4,
 "nbformat_minor": 2
}
