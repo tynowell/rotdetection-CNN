{
 "cells": [
  {
   "cell_type": "markdown",
   "metadata": {},
   "source": [
    "# Dataset selection\n",
    "\n",
    "This notebook covers the steps to generate a test set and the validation sets. It uses the dataframe created by the Data Processing notebook.\n",
    "\n",
    "The following libraries are used."
   ]
  },
  {
   "cell_type": "code",
   "execution_count": null,
   "metadata": {
    "ExecuteTime": {
     "end_time": "2019-05-14T18:58:32.191586Z",
     "start_time": "2019-05-14T18:58:30.757014Z"
    }
   },
   "outputs": [],
   "source": [
    "# File manipulation\n",
    "import os\n",
    "\n",
    "# Data manipulation\n",
    "import pandas as pd\n",
    "\n",
    "# Stratified data splitting\n",
    "from sklearn.model_selection import train_test_split"
   ]
  },
  {
   "cell_type": "markdown",
   "metadata": {},
   "source": [
    "## Import the full dataset dataframe"
   ]
  },
  {
   "cell_type": "code",
   "execution_count": null,
   "metadata": {
    "ExecuteTime": {
     "end_time": "2019-05-14T18:58:32.209515Z",
     "start_time": "2019-05-14T18:58:32.201528Z"
    }
   },
   "outputs": [],
   "source": [
    "df_full = pd.read_csv('dataframes/dataset.csv')"
   ]
  },
  {
   "cell_type": "markdown",
   "metadata": {},
   "source": [
    "## Create the test dataset\n",
    "\n",
    "The split uses a 0.198 test_size to split the 1010 image dataset into a 810 image training set and a 200 image test set."
   ]
  },
  {
   "cell_type": "code",
   "execution_count": null,
   "metadata": {
    "ExecuteTime": {
     "end_time": "2019-05-14T18:58:32.234457Z",
     "start_time": "2019-05-14T18:58:32.228470Z"
    }
   },
   "outputs": [],
   "source": [
    "test_size = 0.198\n",
    "\n",
    "X_train, X_test, y_train, y_test = train_test_split(df_full.drop(['percentage'], axis=1), \n",
    "                                                    df_full['percentage'], \n",
    "                                                    test_size=test_size, \n",
    "                                                    random_state=42, \n",
    "                                                    stratify=df_full['rbr'])"
   ]
  },
  {
   "cell_type": "markdown",
   "metadata": {},
   "source": [
    "Concatenate the results to get the training and test sets."
   ]
  },
  {
   "cell_type": "code",
   "execution_count": null,
   "metadata": {
    "ExecuteTime": {
     "end_time": "2019-05-14T18:58:33.280576Z",
     "start_time": "2019-05-14T18:58:33.270602Z"
    }
   },
   "outputs": [],
   "source": [
    "df_train = pd.concat([X_train, y_train], axis=1).set_index('filename').sort_index()\n",
    "df_test = pd.concat([X_test, y_test], axis=1).set_index('filename').sort_index()"
   ]
  },
  {
   "cell_type": "markdown",
   "metadata": {},
   "source": [
    "Save the training and test sets to file."
   ]
  },
  {
   "cell_type": "code",
   "execution_count": null,
   "metadata": {
    "ExecuteTime": {
     "end_time": "2019-05-14T18:58:36.035770Z",
     "start_time": "2019-05-14T18:58:36.021800Z"
    }
   },
   "outputs": [],
   "source": [
    "df_train.to_csv('dataframes/train.csv')\n",
    "df_test.to_csv('dataframes/test.csv')"
   ]
  },
  {
   "cell_type": "markdown",
   "metadata": {},
   "source": [
    "## Create validation folds\n",
    "\n",
    "Create 10 validation folds to be used to test model generalisability."
   ]
  },
  {
   "cell_type": "code",
   "execution_count": null,
   "metadata": {
    "ExecuteTime": {
     "end_time": "2019-05-14T18:58:50.213698Z",
     "start_time": "2019-05-14T18:58:50.132996Z"
    }
   },
   "outputs": [],
   "source": [
    "for idx in range(10):\n",
    "    # Split the training frame randomly\n",
    "    X_t, X_v, y_t, y_v = train_test_split(df_train.drop(['percentage'], axis=1),\n",
    "                                          df_train['percentage'],\n",
    "                                          test_size=0.197,\n",
    "                                          random_state=idx,\n",
    "                                          stratify=df_train['rbr'])\n",
    "\n",
    "    # Create a subset for training and validation\n",
    "    df_fold_train = pd.concat([X_t, y_t], axis=1).sort_index()\n",
    "    df_fold_valid = pd.concat([X_v, y_v], axis=1).sort_index()\n",
    "    \n",
    "    # Concatenate them\n",
    "    df_fold = pd.concat([df_fold_valid, df_fold_train])\n",
    "    \n",
    "    # Save to individual dataframes\n",
    "    df_fold.to_csv('dataframes/train_' + str(idx) + '.csv')"
   ]
  }
 ],
 "metadata": {
  "kernelspec": {
   "display_name": "Python 3",
   "language": "python",
   "name": "python3"
  },
  "language_info": {
   "codemirror_mode": {
    "name": "ipython",
    "version": 3
   },
   "file_extension": ".py",
   "mimetype": "text/x-python",
   "name": "python",
   "nbconvert_exporter": "python",
   "pygments_lexer": "ipython3",
   "version": "3.6.8"
  },
  "varInspector": {
   "cols": {
    "lenName": 16,
    "lenType": 16,
    "lenVar": 40
   },
   "kernels_config": {
    "python": {
     "delete_cmd_postfix": "",
     "delete_cmd_prefix": "del ",
     "library": "var_list.py",
     "varRefreshCmd": "print(var_dic_list())"
    },
    "r": {
     "delete_cmd_postfix": ") ",
     "delete_cmd_prefix": "rm(",
     "library": "var_list.r",
     "varRefreshCmd": "cat(var_dic_list()) "
    }
   },
   "types_to_exclude": [
    "module",
    "function",
    "builtin_function_or_method",
    "instance",
    "_Feature"
   ],
   "window_display": false
  }
 },
 "nbformat": 4,
 "nbformat_minor": 2
}
